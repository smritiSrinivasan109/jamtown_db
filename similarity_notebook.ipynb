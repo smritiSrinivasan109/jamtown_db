{
  "cells": [
    {
      "cell_type": "markdown",
      "metadata": {},
      "source": [
        "# Artist Similarity",
        "",
        "This notebook loads artist data, generates embeddings with Sentence Transformers, stores them in PostgreSQL with pgvector, and lets you run similarity searches."
      ]
    },
    {
      "cell_type": "markdown",
      "metadata": {},
      "source": [
        "## 1. Setup",
        "",
        "Install dependencies once per environment."
      ]
    },
    {
      "cell_type": "code",
      "metadata": {},
      "execution_count": null,
      "outputs": [],
      "source": [
        "# !python3 -m pip install -r requirements.txt"
      ]
    },
    {
      "cell_type": "markdown",
      "metadata": {},
      "source": [
        "Configure PostgreSQL connection details. Update these placeholders with your actual database credentials or load them from environment variables."
      ]
    },
    {
      "cell_type": "code",
      "metadata": {},
      "execution_count": null,
      "outputs": [],
      "source": [
        "import os",
        "",
        "PGHOST = os.getenv(\"PGHOST\", \"localhost\")",
        "PGPORT = os.getenv(\"PGPORT\", \"5432\")",
        "PGDATABASE = os.getenv(\"PGDATABASE\", \"postgres\")",
        "PGUSER = os.getenv(\"PGUSER\", \"postgres\")",
        "PGPASSWORD = os.getenv(\"PGPASSWORD\", \"\")"
      ]
    },
    {
      "cell_type": "markdown",
      "metadata": {},
      "source": [
        "## 2. Imports and Constants"
      ]
    },
    {
      "cell_type": "code",
      "metadata": {},
      "execution_count": null,
      "outputs": [],
      "source": [
        "import pandas as pd",
        "import psycopg",
        "from pgvector.psycopg import register_vector",
        "from psycopg.rows import dict_row",
        "from sentence_transformers import SentenceTransformer",
        "",
        "MODEL_NAME = \"sentence-transformers/all-mpnet-base-v2\"",
        "VECTOR_DIM = 768",
        "DATA_PATH = \"artist_training_data.csv\""
      ]
    },
    {
      "cell_type": "markdown",
      "metadata": {},
      "source": [
        "## 3. Helper Functions"
      ]
    },
    {
      "cell_type": "code",
      "metadata": {},
      "execution_count": null,
      "outputs": [],
      "source": [
        "def get_connection():",
        "    conn = psycopg.connect(",
        "        host=PGHOST,",
        "        port=PGPORT,",
        "        dbname=PGDATABASE,",
        "        user=PGUSER,",
        "        password=PGPASSWORD or None,",
        "    )",
        "    register_vector(conn)",
        "    return conn"
      ]
    },
    {
      "cell_type": "code",
      "metadata": {},
      "execution_count": null,
      "outputs": [],
      "source": [
        "def ensure_schema(conn):",
        "    with conn.cursor() as cur:",
        "        cur.execute(\"CREATE EXTENSION IF NOT EXISTS vector\")",
        "        cur.execute(",
        "            f\"\"\"",
        "            CREATE TABLE IF NOT EXISTS artist_embeddings (",
        "                id SERIAL PRIMARY KEY,",
        "                name TEXT UNIQUE,",
        "                genre TEXT,",
        "                location TEXT,",
        "                email TEXT,",
        "                instagram TEXT,",
        "                nonprofit_interest TEXT,",
        "                artist_bio TEXT,",
        "                nonprofit_reasoning TEXT,",
        "                embedding VECTOR({VECTOR_DIM})",
        "            )",
        "            \"\"\"",
        "        )",
        "        cur.execute(",
        "            \"CREATE UNIQUE INDEX IF NOT EXISTS idx_artist_embeddings_name ON artist_embeddings (name)\"",
        "        )",
        "    conn.commit()"
      ]
    },
    {
      "cell_type": "code",
      "metadata": {},
      "execution_count": null,
      "outputs": [],
      "source": [
        "def build_documents(records):",
        "    docs = []",
        "    for row in records:",
        "        parts = []",
        "        for key in (",
        "            \"name\",",
        "            \"genre\",",
        "            \"location\",",
        "            \"nonprofit_interest\",",
        "            \"artist_bio\",",
        "            \"nonprofit_reasoning\",",
        "        ):",
        "            value = row.get(key)",
        "            if pd.notna(value) and value:",
        "                label = key.replace(\"_\", \" \").title()",
        "                parts.append(f\"{label}: {value}\")",
        "        docs.append(\"",
        "\".join(parts))",
        "    return docs"
      ]
    },
    {
      "cell_type": "code",
      "metadata": {},
      "execution_count": null,
      "outputs": [],
      "source": [
        "def encode_documents(documents, model_name=MODEL_NAME):",
        "    model = SentenceTransformer(model_name)",
        "    embeddings = model.encode(documents, convert_to_numpy=True, normalize_embeddings=True)",
        "    return model, embeddings"
      ]
    },
    {
      "cell_type": "code",
      "metadata": {},
      "execution_count": null,
      "outputs": [],
      "source": [
        "def upsert_embeddings(conn, df, embeddings):",
        "    def sanitize(value):",
        "        if pd.isna(value):",
        "            return None",
        "        return value",
        "",
        "    with conn.cursor() as cur:",
        "        for row, vector in zip(df.itertuples(index=False), embeddings):",
        "            cur.execute(",
        "                \"\"\"",
        "                INSERT INTO artist_embeddings (",
        "                    name,",
        "                    genre,",
        "                    location,",
        "                    email,",
        "                    instagram,",
        "                    nonprofit_interest,",
        "                    artist_bio,",
        "                    nonprofit_reasoning,",
        "                    embedding",
        "                )",
        "                VALUES (%s, %s, %s, %s, %s, %s, %s, %s)",
        "                ON CONFLICT (name) DO UPDATE SET",
        "                    genre = EXCLUDED.genre,",
        "                    location = EXCLUDED.location,",
        "                    email = EXCLUDED.email,",
        "                    instagram = EXCLUDED.instagram,",
        "                    nonprofit_interest = EXCLUDED.nonprofit_interest,",
        "                    artist_bio = EXCLUDED.artist_bio,",
        "                    nonprofit_reasoning = EXCLUDED.nonprofit_reasoning,",
        "                    embedding = EXCLUDED.embedding",
        "                \"\"\",",
        "                (",
        "                    sanitize(row.name),",
        "                    sanitize(row.genre),",
        "                    sanitize(row.location),",
        "                    sanitize(row.email),",
        "                    sanitize(row.instagram),",
        "                    sanitize(row.nonprofit_interest),",
        "                    sanitize(row.artist_bio),",
        "                    sanitize(row.nonprofit_reasoning),",
        "                    vector,",
        "                ),",
        "            )",
        "    conn.commit()"
      ]
    },
    {
      "cell_type": "code",
      "metadata": {},
      "execution_count": null,
      "outputs": [],
      "source": [
        "def search_similar(conn, model, query, limit=5):",
        "    embedding = model.encode([query], convert_to_numpy=True, normalize_embeddings=True)[0]",
        "    with conn.cursor(row_factory=dict_row) as cur:",
        "        cur.execute(",
        "            \"\"\"",
        "            SELECT",
        "                name,",
        "                genre,",
        "                location,",
        "                email,",
        "                instagram,",
        "                nonprofit_interest,",
        "                artist_bio,",
        "                nonprofit_reasoning,",
        "                embedding <=> %s AS distance",
        "            FROM artist_embeddings",
        "            ORDER BY embedding <=> %s",
        "            LIMIT %s",
        "            \"\"\",",
        "            (embedding, embedding, limit),",
        "        )",
        "        return cur.fetchall()"
      ]
    },
    {
      "cell_type": "markdown",
      "metadata": {},
      "source": [
        "## 4. Load and Embed Dataset"
      ]
    },
    {
      "cell_type": "code",
      "metadata": {},
      "execution_count": null,
      "outputs": [],
      "source": [
        "artists_df = pd.read_csv(DATA_PATH)",
        "documents = build_documents(artists_df.to_dict(\"records\"))",
        "len(documents)"
      ]
    },
    {
      "cell_type": "code",
      "metadata": {},
      "execution_count": null,
      "outputs": [],
      "source": [
        "model, embeddings = encode_documents(documents)",
        "embeddings.shape"
      ]
    },
    {
      "cell_type": "code",
      "metadata": {},
      "execution_count": null,
      "outputs": [],
      "source": [
        "with get_connection() as conn:",
        "    ensure_schema(conn)",
        "    upsert_embeddings(conn, artists_df, embeddings)"
      ]
    },
    {
      "cell_type": "markdown",
      "metadata": {},
      "source": [
        "## 5. Run Similarity Queries"
      ]
    },
    {
      "cell_type": "code",
      "metadata": {},
      "execution_count": null,
      "outputs": [],
      "source": [
        "query = \"folk singer passionate about environmental conservation\"",
        "limit = 5",
        "",
        "with get_connection() as conn:",
        "    results = search_similar(conn, model, query, limit)",
        "",
        "results"
      ]
    },
    {
      "cell_type": "code",
      "metadata": {},
      "execution_count": null,
      "outputs": [],
      "source": [
        "for idx, row in enumerate(results, start=1):",
        "    distance = row.get(\"distance\", 0.0)",
        "    print(f\"{idx}. {row['name']} (distance={distance:.4f})\")",
        "    for key, value in row.items():",
        "        if key in (\"name\", \"distance\") or value in (None, \"\"):",
        "            continue",
        "        print(f\"   {key.replace('_', ' ').title()}: {value}\")"
      ]
    }
  ],
  "metadata": {
    "kernelspec": {
      "display_name": "Python 3",
      "language": "python",
      "name": "python3"
    },
    "language_info": {
      "name": "python"
    }
  },
  "nbformat": 4,
  "nbformat_minor": 5
}