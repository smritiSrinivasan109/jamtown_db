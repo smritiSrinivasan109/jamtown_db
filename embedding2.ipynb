{
 "cells": [
  {
   "cell_type": "code",
   "execution_count": 9,
   "id": "2165189f",
   "metadata": {},
   "outputs": [],
   "source": [
    "from sentence_transformers import SentenceTransformer\n",
    "import pandas as pd\n",
    "import numpy as np\n",
    "from sklearn.metrics.pairwise import cosine_similarity\n",
    "from tqdm.autonotebook import tqdm as tqdm\n",
    "import pyarrow as pa\n",
    "import pyarrow.parquet as pq"
   ]
  },
  {
   "cell_type": "code",
   "execution_count": 2,
   "id": "ce7cfc93",
   "metadata": {},
   "outputs": [
    {
     "name": "stdout",
     "output_type": "stream",
     "text": [
      "Loaded dataset: (100, 8)\n",
      "            name genre                    email        location  \\\n",
      "0       Ryan Lee  Folk       ryan_lee@yahoo.com      Urbana, IL   \n",
      "1  Xavier Brooks  Folk  xavier.brooks@gmail.com    Evanston, IL   \n",
      "2     Indigo Cox  Folk     cox.indigo@yahoo.com    Evanston, IL   \n",
      "3    Rosa Hughes  Folk  rosa_hughes@hotmail.com    Oak Park, IL   \n",
      "4    Parker King  Folk  parker.king@hotmail.com  Schaumburg, IL   \n",
      "\n",
      "           nonprofit_interest     instagram  \\\n",
      "0  Environmental Conservation      ryan.lee   \n",
      "1              Social Justice  xavierbrooks   \n",
      "2            Economic Justice     cox_music   \n",
      "3              Arts Education   rosa_sounds   \n",
      "4           Healthcare Access    parkerking   \n",
      "\n",
      "                                          artist_bio  \\\n",
      "0  Ryan Lee is a folk artist from Urbana, IL who ...   \n",
      "1  Xavier Brooks is a folk artist from Evanston, ...   \n",
      "2  Indigo Cox is a folk artist from Evanston, IL ...   \n",
      "3  Based in Oak Park, IL, Rosa Hughes combines tr...   \n",
      "4  Parker King is a folk artist from Schaumburg, ...   \n",
      "\n",
      "                                 nonprofit_reasoning  \n",
      "0  Growing up in the Midwest, Ryan Lee developed ...  \n",
      "1  Xavier Brooks's commitment to social justice s...  \n",
      "2  Indigo Cox is deeply committed to economic jus...  \n",
      "3  Rosa Hughes is deeply committed to arts educat...  \n",
      "4  Parker King is deeply committed to healthcare ...  \n"
     ]
    }
   ],
   "source": [
    "df = pd.read_csv('/Users/smritisrinivasan/Desktop/jamtown_db/artist_training_data.csv')\n",
    "print(\"Loaded dataset:\", df.shape)\n",
    "print(df.head())"
   ]
  },
  {
   "cell_type": "code",
   "execution_count": 3,
   "id": "86083de0",
   "metadata": {},
   "outputs": [],
   "source": [
    "df = df.fillna(\"\")\n",
    "documents = []\n",
    "\n",
    "for _, row in df.iterrows():\n",
    "    entry = \"\"\n",
    "    if row[\"name\"]:\n",
    "        entry += f\"Name: {row['name']}\\n\"\n",
    "    if row[\"genre\"]:\n",
    "        entry += f\"Genre: {row['genre']}\\n\"\n",
    "    if row[\"location\"]:\n",
    "        entry += f\"Location: {row['location']}\\n\"\n",
    "    if row[\"nonprofit_interest\"]:\n",
    "        entry += f\"Nonprofit Interest: {row['nonprofit_interest']}\\n\"\n",
    "    if row[\"artist_bio\"]:\n",
    "        entry += f\"Bio: {row['artist_bio']}\\n\"\n",
    "    if row[\"nonprofit_reasoning\"]:\n",
    "        entry += f\"Reasoning: {row['nonprofit_reasoning']}\\n\"\n",
    "\n",
    "    documents.append(entry.strip())\n"
   ]
  },
  {
   "cell_type": "code",
   "execution_count": 4,
   "id": "dddcc978",
   "metadata": {},
   "outputs": [
    {
     "name": "stdout",
     "output_type": "stream",
     "text": [
      "Prepared 100 documents for embedding.\n"
     ]
    }
   ],
   "source": [
    "print(f\"Prepared {len(documents)} documents for embedding.\")"
   ]
  },
  {
   "cell_type": "code",
   "execution_count": 5,
   "id": "d1793451",
   "metadata": {},
   "outputs": [
    {
     "name": "stdout",
     "output_type": "stream",
     "text": [
      "Model loaded: all-mpnet-base-v2 (dim=768)\n"
     ]
    }
   ],
   "source": [
    "model = SentenceTransformer('sentence-transformers/all-mpnet-base-v2')\n",
    "print(\"Model loaded: all-mpnet-base-v2 (dim=768)\")"
   ]
  },
  {
   "cell_type": "code",
   "execution_count": 6,
   "id": "66bdc91b",
   "metadata": {},
   "outputs": [
    {
     "name": "stderr",
     "output_type": "stream",
     "text": [
      "Batches:   0%|          | 0/4 [00:00<?, ?it/s]"
     ]
    },
    {
     "name": "stderr",
     "output_type": "stream",
     "text": [
      "Batches: 100%|██████████| 4/4 [00:02<00:00,  1.58it/s]"
     ]
    },
    {
     "name": "stdout",
     "output_type": "stream",
     "text": [
      "Embeddings generated. Shape: (100, 768)\n"
     ]
    },
    {
     "name": "stderr",
     "output_type": "stream",
     "text": [
      "\n"
     ]
    }
   ],
   "source": [
    "embeddings = model.encode(documents, batch_size=32, show_progress_bar=True, convert_to_numpy=True)\n",
    "print(\"Embeddings generated. Shape:\", embeddings.shape)"
   ]
  },
  {
   "cell_type": "code",
   "execution_count": 12,
   "id": "6f53c52a",
   "metadata": {},
   "outputs": [
    {
     "name": "stdout",
     "output_type": "stream",
     "text": [
      "Saved as artist_embeddings.csv.\n"
     ]
    }
   ],
   "source": [
    "df.to_csv(\"artist_embeddings.csv\", index=False)\n",
    "print(\"Saved as artist_embeddings.csv.\")"
   ]
  },
  {
   "cell_type": "code",
   "execution_count": null,
   "id": "88473a90",
   "metadata": {},
   "outputs": [],
   "source": []
  }
 ],
 "metadata": {
  "kernelspec": {
   "display_name": ".venv",
   "language": "python",
   "name": "python3"
  },
  "language_info": {
   "codemirror_mode": {
    "name": "ipython",
    "version": 3
   },
   "file_extension": ".py",
   "mimetype": "text/x-python",
   "name": "python",
   "nbconvert_exporter": "python",
   "pygments_lexer": "ipython3",
   "version": "3.13.7"
  }
 },
 "nbformat": 4,
 "nbformat_minor": 5
}
