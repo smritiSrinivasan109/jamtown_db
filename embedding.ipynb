{
 "cells": [
  {
   "cell_type": "code",
   "execution_count": 7,
   "id": "004d012c",
   "metadata": {},
   "outputs": [],
   "source": [
    "# --- Setup Instructions (run once in terminal) ---\n",
    "# python3 -m venv .venv\n",
    "# source .venv/bin/activate\n",
    "# pip install -r requirements.txt\n",
    "# -----------------------------------------------\n",
    "\n",
    "from sentence_transformers import SentenceTransformer\n",
    "import pandas as pd"
   ]
  },
  {
   "cell_type": "code",
   "execution_count": 2,
   "id": "e642d1b1",
   "metadata": {},
   "outputs": [],
   "source": [
    "df = pd.read_csv('artist_training_data.csv')"
   ]
  },
  {
   "cell_type": "code",
   "execution_count": 5,
   "id": "e7e35212",
   "metadata": {},
   "outputs": [],
   "source": [
    "documents = []\n",
    "\n",
    "for _, row in df.iterrows():\n",
    "    entry = \"\"\n",
    "    if row[\"name\"]:\n",
    "        entry += f\"Name: {row['name']}\\n\"\n",
    "    if row[\"genre\"]:\n",
    "        entry += f\"Genre: {row['genre']}\\n\"\n",
    "    if row[\"location\"]:\n",
    "        entry += f\"Location: {row['location']}\\n\"\n",
    "    if row[\"nonprofit_interest\"]:\n",
    "        entry += f\"Nonprofit Interest: {row['nonprofit_interest']}\\n\"\n",
    "    if row[\"artist_bio\"]:\n",
    "        entry += f\"Bio: {row['artist_bio']}\\n\"\n",
    "    if row[\"nonprofit_reasoning\"]:\n",
    "        entry += f\"Reasoning: {row['nonprofit_reasoning']}\\n\"\n",
    "\n",
    "    documents.append(entry.strip())"
   ]
  },
  {
   "cell_type": "code",
   "execution_count": 8,
   "id": "9d82478b",
   "metadata": {},
   "outputs": [
    {
     "name": "stdout",
     "output_type": "stream",
     "text": [
      "[[ 0.02378535  0.12292761  0.00432569 ... -0.01346795  0.00844086\n",
      "  -0.00480258]\n",
      " [-0.01724808  0.09058083  0.00124881 ...  0.01960417  0.02995507\n",
      "   0.00957711]\n",
      " [-0.00422415  0.14477666  0.0110665  ... -0.0071272  -0.00561771\n",
      "  -0.01896293]\n",
      " ...\n",
      " [-0.01138045  0.10473093 -0.02523782 ... -0.03332726 -0.00096836\n",
      "  -0.037156  ]\n",
      " [-0.01266533  0.07647095 -0.00236745 ... -0.01947138  0.01996202\n",
      "   0.00322176]\n",
      " [ 0.01541952  0.093125   -0.00872733 ... -0.01606384  0.01093457\n",
      "  -0.02330028]]\n"
     ]
    }
   ],
   "source": [
    "model = SentenceTransformer('sentence-transformers/all-mpnet-base-v2')\n",
    "embeddings = model.encode(documents)\n",
    "print(embeddings)"
   ]
  }
 ],
 "metadata": {
  "kernelspec": {
   "display_name": ".venv",
   "language": "python",
   "name": "python3"
  },
  "language_info": {
   "codemirror_mode": {
    "name": "ipython",
    "version": 3
   },
   "file_extension": ".py",
   "mimetype": "text/x-python",
   "name": "python",
   "nbconvert_exporter": "python",
   "pygments_lexer": "ipython3",
   "version": "3.12.4"
  }
 },
 "nbformat": 4,
 "nbformat_minor": 5
}
